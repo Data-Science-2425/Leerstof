{
 "cells": [
  {
   "cell_type": "markdown",
   "metadata": {},
   "source": [
    "# Python basics"
   ]
  },
  {
   "cell_type": "code",
   "execution_count": null,
   "metadata": {},
   "outputs": [],
   "source": [
    "print(\"hello world\")\n",
    "\n",
    "# functies moeten niet in een klasse staan\n",
    "# je mag deze twee methoden kiezen (steeds beginnen met kleine letter)\n",
    "def woord1Woord2():\n",
    "    pass\n",
    "\n",
    "def woord1_woord2(): # de gebruikte api gebruiken vaak deze vorm\n",
    "    # pass gebruik je als je geen code hebt in je body\n",
    "    pass\n",
    "\n",
    "# klasses beginnen met een hoofdletter\n",
    "class Persoon:\n",
    "\n",
    "    populatie = 0\n",
    "\n",
    "    def __init__(self, naam, leeftijd):\n",
    "        # self is eigenlijk de this\n",
    "        self.naam = naam\n",
    "        self.leeftijd = leeftijd\n",
    "        Persoon.populatie += 1 # ++ bestaat niet in python\n",
    "\n",
    "    def beschrijving(self):\n",
    "        return f\"{self.naam} is {self.leeftijd} jaar oud\"\n",
    "    \n",
    "    @staticmethod\n",
    "    def get_population():\n",
    "        return Persoon.populatie\n",
    "    \n",
    "p1 = Persoon(\"Andy Weir\", 18)\n",
    "p1 = Persoon(\"Andy Weir2\", 28)\n",
    "\n",
    "print(p1.beschrijving())\n",
    "print(Persoon.get_population())"
   ]
  },
  {
   "cell_type": "code",
   "execution_count": null,
   "metadata": {},
   "outputs": [],
   "source": [
    "# nieuwe cellen maken -> hover tussen cellen in visual studio code en maak nieuwe cell\n",
    "# gebruik a of b om een cell erboven of eronder te maken\n",
    "# met x kan je cellen verwijderen\n",
    "# je moet wel uit de cell gaan/de cel selecteren -> doe je door escape te doen\n",
    "\n",
    "# cell uitvoeren doe ik met shift+enter\n",
    "\n",
    "while False:\n",
    "    pass\n",
    "\n",
    "l = [10,20, 4, 5, 9]\n",
    "l.append(100)\n",
    "#l.append(\"test\")\n",
    "l.extend([1,2,3,4])\n",
    "l = [x*3 for x in l]\n",
    "\n",
    "for x in l:\n",
    "    print(x)"
   ]
  },
  {
   "cell_type": "code",
   "execution_count": null,
   "metadata": {},
   "outputs": [],
   "source": [
    "# slicing\n",
    "l[2]\n",
    "l[-2] # -1 is vanachter te beginnen tellen -1 is laatste, -2 voorlaatste\n",
    "l[3:-3] # van tot\n",
    "l[0:-1:2] # alle even indices -> start : stop : stapgrootte\n",
    "l[::2] # alle even indices als start 0 is of stop -1 kan je ze weglaten"
   ]
  },
  {
   "cell_type": "markdown",
   "metadata": {},
   "source": [
    "# Numpy basics"
   ]
  },
  {
   "cell_type": "markdown",
   "metadata": {},
   "source": [
    "De basisstructuur in NumPy is de **ndarray** (n-dimensionale array). Een ndarray kan worden gezien als een rooster van elementen, allemaal van hetzelfde type, geïndexeerd door een tuple van niet-negatieve gehele getallen. Je kunt NumPy gebruiken om arrays te maken door gebruik te maken van de functie np.array(). Dit is een voorbeeld:"
   ]
  },
  {
   "cell_type": "code",
   "execution_count": null,
   "metadata": {},
   "outputs": [],
   "source": [
    "# werkt met anaconda -> numpy reeds geinstalleerd\n",
    "\n",
    "# standalone werkt moet je numpy  nog installeren\n",
    "!pip install numpy\n",
    "# uitroepingsteken wil zeggen dat dit op de cli uitgevoerd wordt"
   ]
  },
  {
   "cell_type": "code",
   "execution_count": null,
   "metadata": {},
   "outputs": [],
   "source": [
    "# importeer alles van numpy\n",
    "import numpy\n",
    "# numpy.array()\n",
    "# hernoem het na importeren\n",
    "import numpy as np\n",
    "# np.array()\n",
    "\n",
    "# specifieke zaken gaat importeren\n",
    "from numpy import random  # importeer de random functie in de numpy package"
   ]
  },
  {
   "cell_type": "markdown",
   "metadata": {},
   "source": [
    "In dit voorbeeld wordt een NumPy-array a gemaakt met de elementen 1 tot 5. Deze array is één-dimensionaal, maar NumPy ondersteunt ook meerdimensionale arrays. Een tweedimensionale array kan bijvoorbeeld als volgt worden gemaakt"
   ]
  },
  {
   "cell_type": "code",
   "execution_count": 2,
   "metadata": {},
   "outputs": [],
   "source": [
    "a = np.array([1, 2, 3, 4, 5])"
   ]
  },
  {
   "cell_type": "markdown",
   "metadata": {},
   "source": [
    "Hier zie je een 2x3 matrix, wat betekent dat er twee rijen en drie kolommen zijn. Je kunt de vorm van een array opvragen met de shape-eigenschap:"
   ]
  },
  {
   "cell_type": "code",
   "execution_count": null,
   "metadata": {},
   "outputs": [],
   "source": [
    "b = np.array([[1, 2, 3], [4, 5, 6]])"
   ]
  },
  {
   "cell_type": "code",
   "execution_count": null,
   "metadata": {},
   "outputs": [],
   "source": [
    "b.shape"
   ]
  },
  {
   "cell_type": "markdown",
   "metadata": {},
   "source": [
    "NumPy biedt ook verschillende manieren om arrays te genereren zonder expliciet de waarden te specificeren. Bijvoorbeeld, np.zeros((2, 3)) maakt een 2x3 matrix gevuld met nullen, terwijl np.ones((2, 3)) een matrix met enen genereert. Je kunt ook een reeks getallen genereren met np.arange(), dat vergelijkbaar is met de ingebouwde range()-functie van Python, maar een NumPy-array retourneert.\n",
    "\n",
    "Een van de belangrijkste voordelen van NumPy is de mogelijkheid om elementgewijze operaties uit te voeren op arrays. Dit betekent dat je dezelfde bewerking tegelijkertijd kunt toepassen op alle elementen van een array zonder een expliciete lus te schrijven. Bijvoorbeeld:"
   ]
  },
  {
   "cell_type": "code",
   "execution_count": null,
   "metadata": {},
   "outputs": [],
   "source": [
    "c = np.array([1, 2, 3, 4, 5])\n",
    "d = c * 2 "
   ]
  },
  {
   "cell_type": "markdown",
   "metadata": {},
   "source": [
    "In dit voorbeeld wordt elk element van array c vermenigvuldigd met 2, wat resulteert in een nieuwe array d met de waarden [2, 4, 6, 8, 10]. Dergelijke operaties zijn niet alleen korter om te schrijven, maar ook sneller dan een vergelijkbare operatie met een Python-lijst."
   ]
  }
 ],
 "metadata": {
  "kernelspec": {
   "display_name": "Python 3",
   "language": "python",
   "name": "python3"
  },
  "language_info": {
   "codemirror_mode": {
    "name": "ipython",
    "version": 3
   },
   "file_extension": ".py",
   "mimetype": "text/x-python",
   "name": "python",
   "nbconvert_exporter": "python",
   "pygments_lexer": "ipython3",
   "version": "3.12.5"
  }
 },
 "nbformat": 4,
 "nbformat_minor": 2
}
