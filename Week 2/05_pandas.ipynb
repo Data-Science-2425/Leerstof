{
 "cells": [
  {
   "cell_type": "markdown",
   "metadata": {},
   "source": [
    "# Pandas\n",
    "\n",
    "Indien pandas nog niet geinstalleerd is, voer onderstaande codecell uit."
   ]
  },
  {
   "cell_type": "code",
   "execution_count": null,
   "metadata": {},
   "outputs": [],
   "source": [
    "!pip install pandas"
   ]
  },
  {
   "cell_type": "markdown",
   "metadata": {},
   "source": [
    "\n",
    "De twee belangrijkste gegevensstructuren in Pandas zijn de Series en de DataFrame.\n",
    "\n",
    "Een Series in Pandas is een één-dimensionale array-achtige structuur die een lijst van waarden bevat, samen met een index die aan elke waarde is gekoppeld. Je kunt een Series maken vanuit een Python-lijst of een NumPy-array. Bijvoorbeeld:"
   ]
  },
  {
   "cell_type": "code",
   "execution_count": 3,
   "metadata": {},
   "outputs": [
    {
     "data": {
      "text/plain": [
       "array([1, 2, 3, 4, 5])"
      ]
     },
     "execution_count": 3,
     "metadata": {},
     "output_type": "execute_result"
    }
   ],
   "source": [
    "import pandas as pd\n",
    "\n",
    "s = pd.Series([1, 2, 3, 4, 5]) # series is een reeks van waarden (vaak is dit 1 rij of 1 kolom  van een dataframe)\n",
    "# als je dit uitprint zie je twee reeksen van getallen -> het eerste is de index (denk aan de primary key van een tabel), het tweede zijn de values\n",
    "s\n",
    "s.index\n",
    "s.values"
   ]
  },
  {
   "cell_type": "markdown",
   "metadata": {},
   "source": [
    "Hier wordt een Series s gemaakt met de waarden 1 tot 5. Standaard wordt een numerieke index van 0 tot 4 gebruikt, maar je kunt ook een aangepaste index specificeren:"
   ]
  },
  {
   "cell_type": "code",
   "execution_count": 5,
   "metadata": {},
   "outputs": [
    {
     "data": {
      "text/plain": [
       "a    1\n",
       "b    2\n",
       "c    3\n",
       "d    4\n",
       "e    5\n",
       "dtype: int64"
      ]
     },
     "execution_count": 5,
     "metadata": {},
     "output_type": "execute_result"
    }
   ],
   "source": [
    "s = pd.Series([1, 2, 3, 4, 5], index=['a', 'b', 'c', 'd', 'e'])\n",
    "s"
   ]
  },
  {
   "cell_type": "code",
   "execution_count": 9,
   "metadata": {},
   "outputs": [
    {
     "data": {
      "text/plain": [
       "np.int64(2)"
      ]
     },
     "execution_count": 9,
     "metadata": {},
     "output_type": "execute_result"
    }
   ],
   "source": [
    "s.index\n",
    "s['b']"
   ]
  },
  {
   "cell_type": "markdown",
   "metadata": {},
   "source": [
    "In dit voorbeeld heeft elke waarde in de Series nu een corresponderende letterindex in plaats van een numerieke index. Dit maakt Series krachtig omdat je kunt werken met labels in plaats van alleen met posities.\n",
    "\n",
    "De DataFrame is de meest gebruikte structuur in Pandas. Een DataFrame is een tweedimensionale tabel die lijkt op een spreadsheet of een SQL-tabel. Het bestaat uit rijen en kolommen, waarbij elke kolom een Series is. Een DataFrame kan worden gemaakt uit verschillende bronnen, zoals een dictionary van lijsten of een NumPy-array. Bijvoorbeeld:"
   ]
  },
  {
   "cell_type": "code",
   "execution_count": 20,
   "metadata": {},
   "outputs": [
    {
     "data": {
      "text/html": [
       "<div>\n",
       "<style scoped>\n",
       "    .dataframe tbody tr th:only-of-type {\n",
       "        vertical-align: middle;\n",
       "    }\n",
       "\n",
       "    .dataframe tbody tr th {\n",
       "        vertical-align: top;\n",
       "    }\n",
       "\n",
       "    .dataframe thead th {\n",
       "        text-align: right;\n",
       "    }\n",
       "</style>\n",
       "<table border=\"1\" class=\"dataframe\">\n",
       "  <thead>\n",
       "    <tr style=\"text-align: right;\">\n",
       "      <th></th>\n",
       "      <th>Naam</th>\n",
       "      <th>Leeftijd</th>\n",
       "    </tr>\n",
       "  </thead>\n",
       "  <tbody>\n",
       "    <tr>\n",
       "      <th>0</th>\n",
       "      <td>Alice</td>\n",
       "      <td>25</td>\n",
       "    </tr>\n",
       "    <tr>\n",
       "      <th>1</th>\n",
       "      <td>Bob</td>\n",
       "      <td>30</td>\n",
       "    </tr>\n",
       "    <tr>\n",
       "      <th>2</th>\n",
       "      <td>Charlie</td>\n",
       "      <td>35</td>\n",
       "    </tr>\n",
       "  </tbody>\n",
       "</table>\n",
       "</div>"
      ],
      "text/plain": [
       "      Naam  Leeftijd\n",
       "0    Alice        25\n",
       "1      Bob        30\n",
       "2  Charlie        35"
      ]
     },
     "metadata": {},
     "output_type": "display_data"
    },
    {
     "data": {
      "text/plain": [
       "np.int64(35)"
      ]
     },
     "execution_count": 20,
     "metadata": {},
     "output_type": "execute_result"
    }
   ],
   "source": [
    "data = {'Naam': ['Alice', 'Bob', 'Charlie'], 'Leeftijd': [25, 30, 35]}\n",
    "df = pd.DataFrame(data)\n",
    "\n",
    "display(df) # display tekent het iets mooier dan een standaard print\n",
    "df.Naam # selecteer 1 kolom (dit geeft een series)\n",
    "#df['Naam'] is analoog aan het vorige (als er spaties in je kolomnaam staan (of punten, of quotetekens of ...))\n",
    "\n",
    "#df = df.set_index('Naam') # set_index geeft een nieuw dataframe terugaa\n",
    "df.set_index('Naam', inplace=True)\n",
    "# df['Alice'] # dit gaat een kolom selecteren -> keyerror want er is geen kolom met naam Alice\n",
    "df.loc['Alice']\n",
    "df.iloc[2, 0] # met iloc kan je met getallen gaan werken om te gaan slicen"
   ]
  },
  {
   "cell_type": "markdown",
   "metadata": {},
   "source": [
    "In dit voorbeeld wordt een DataFrame df gemaakt met twee kolommen: Naam en Leeftijd. De waarden van deze kolommen zijn afkomstig uit de dictionary data. De DataFrame-structuur biedt tal van functies voor het manipuleren, selecteren en bewerken van gegevens. Bijvoorbeeld, je kunt toegang krijgen tot een specifieke kolom met:"
   ]
  },
  {
   "cell_type": "code",
   "execution_count": null,
   "metadata": {},
   "outputs": [],
   "source": [
    "namen = df['Naam']"
   ]
  },
  {
   "cell_type": "markdown",
   "metadata": {},
   "source": [
    "Dit retourneert een Series met de waarden in de kolom Naam. Je kunt ook rijen selecteren op basis van hun positie met de .iloc[]-methode of op basis van hun index met .loc[].\n",
    "\n",
    "Een ander krachtig aspect van Pandas is de mogelijkheid om bewerkingen uit te voeren op kolommen. Bijvoorbeeld, je kunt een nieuwe kolom toevoegen aan een DataFrame door een wiskundige operatie toe te passen op bestaande kolommen:"
   ]
  },
  {
   "cell_type": "code",
   "execution_count": 23,
   "metadata": {},
   "outputs": [
    {
     "data": {
      "text/html": [
       "<div>\n",
       "<style scoped>\n",
       "    .dataframe tbody tr th:only-of-type {\n",
       "        vertical-align: middle;\n",
       "    }\n",
       "\n",
       "    .dataframe tbody tr th {\n",
       "        vertical-align: top;\n",
       "    }\n",
       "\n",
       "    .dataframe thead th {\n",
       "        text-align: right;\n",
       "    }\n",
       "</style>\n",
       "<table border=\"1\" class=\"dataframe\">\n",
       "  <thead>\n",
       "    <tr style=\"text-align: right;\">\n",
       "      <th></th>\n",
       "      <th>Leeftijd</th>\n",
       "      <th>Leeftijd_plus_5</th>\n",
       "    </tr>\n",
       "    <tr>\n",
       "      <th>Naam</th>\n",
       "      <th></th>\n",
       "      <th></th>\n",
       "    </tr>\n",
       "  </thead>\n",
       "  <tbody>\n",
       "    <tr>\n",
       "      <th>Alice</th>\n",
       "      <td>25</td>\n",
       "      <td>30</td>\n",
       "    </tr>\n",
       "    <tr>\n",
       "      <th>Bob</th>\n",
       "      <td>30</td>\n",
       "      <td>35</td>\n",
       "    </tr>\n",
       "    <tr>\n",
       "      <th>Charlie</th>\n",
       "      <td>35</td>\n",
       "      <td>40</td>\n",
       "    </tr>\n",
       "  </tbody>\n",
       "</table>\n",
       "</div>"
      ],
      "text/plain": [
       "         Leeftijd  Leeftijd_plus_5\n",
       "Naam                              \n",
       "Alice          25               30\n",
       "Bob            30               35\n",
       "Charlie        35               40"
      ]
     },
     "metadata": {},
     "output_type": "display_data"
    },
    {
     "data": {
      "text/plain": [
       "Naam\n",
       "Alice      30\n",
       "Bob        35\n",
       "Charlie    40\n",
       "dtype: int64"
      ]
     },
     "execution_count": 23,
     "metadata": {},
     "output_type": "execute_result"
    }
   ],
   "source": [
    "df['Leeftijd_plus_5'] = df['Leeftijd'] + 5 # dit is een manier om nieuwe kolommen toe te voegen aan een dataframe\n",
    "\n",
    "display(df)\n",
    "\n",
    "df.max() # standaard gedrag is per kolom\n",
    "df.max(axis=1) # met axis kan je dit gedrag aanpassen naar per rij\n"
   ]
  },
  {
   "cell_type": "markdown",
   "metadata": {},
   "source": [
    "Hier wordt een nieuwe kolom toegevoegd aan df genaamd Leeftijd_plus_5, die de waarden in de kolom Leeftijd verhoogt met 5."
   ]
  },
  {
   "cell_type": "code",
   "execution_count": 28,
   "metadata": {},
   "outputs": [],
   "source": [
    "# df.drop('Leeftijd_plus_5')  # KeyError: \"['Leeftijd_plus_5'] not found in axis\" -> dit is heel vaak omdat je in de verkeerde axis werkt\n",
    "\n",
    "df.drop('Leeftijd_plus_5', axis=1, inplace=True)"
   ]
  },
  {
   "cell_type": "code",
   "execution_count": 29,
   "metadata": {},
   "outputs": [
    {
     "data": {
      "text/html": [
       "<div>\n",
       "<style scoped>\n",
       "    .dataframe tbody tr th:only-of-type {\n",
       "        vertical-align: middle;\n",
       "    }\n",
       "\n",
       "    .dataframe tbody tr th {\n",
       "        vertical-align: top;\n",
       "    }\n",
       "\n",
       "    .dataframe thead th {\n",
       "        text-align: right;\n",
       "    }\n",
       "</style>\n",
       "<table border=\"1\" class=\"dataframe\">\n",
       "  <thead>\n",
       "    <tr style=\"text-align: right;\">\n",
       "      <th></th>\n",
       "      <th>Leeftijd</th>\n",
       "    </tr>\n",
       "    <tr>\n",
       "      <th>Naam</th>\n",
       "      <th></th>\n",
       "    </tr>\n",
       "  </thead>\n",
       "  <tbody>\n",
       "    <tr>\n",
       "      <th>Alice</th>\n",
       "      <td>25</td>\n",
       "    </tr>\n",
       "    <tr>\n",
       "      <th>Bob</th>\n",
       "      <td>30</td>\n",
       "    </tr>\n",
       "    <tr>\n",
       "      <th>Charlie</th>\n",
       "      <td>35</td>\n",
       "    </tr>\n",
       "  </tbody>\n",
       "</table>\n",
       "</div>"
      ],
      "text/plain": [
       "         Leeftijd\n",
       "Naam             \n",
       "Alice          25\n",
       "Bob            30\n",
       "Charlie        35"
      ]
     },
     "execution_count": 29,
     "metadata": {},
     "output_type": "execute_result"
    }
   ],
   "source": [
    "df"
   ]
  },
  {
   "cell_type": "code",
   "execution_count": 30,
   "metadata": {},
   "outputs": [
    {
     "data": {
      "text/html": [
       "<div>\n",
       "<style scoped>\n",
       "    .dataframe tbody tr th:only-of-type {\n",
       "        vertical-align: middle;\n",
       "    }\n",
       "\n",
       "    .dataframe tbody tr th {\n",
       "        vertical-align: top;\n",
       "    }\n",
       "\n",
       "    .dataframe thead th {\n",
       "        text-align: right;\n",
       "    }\n",
       "</style>\n",
       "<table border=\"1\" class=\"dataframe\">\n",
       "  <thead>\n",
       "    <tr style=\"text-align: right;\">\n",
       "      <th></th>\n",
       "      <th>Naam</th>\n",
       "      <th>Leeftijd</th>\n",
       "    </tr>\n",
       "  </thead>\n",
       "  <tbody>\n",
       "    <tr>\n",
       "      <th>0</th>\n",
       "      <td>Alice</td>\n",
       "      <td>25</td>\n",
       "    </tr>\n",
       "    <tr>\n",
       "      <th>1</th>\n",
       "      <td>Bob</td>\n",
       "      <td>30</td>\n",
       "    </tr>\n",
       "    <tr>\n",
       "      <th>2</th>\n",
       "      <td>Charlie</td>\n",
       "      <td>35</td>\n",
       "    </tr>\n",
       "  </tbody>\n",
       "</table>\n",
       "</div>"
      ],
      "text/plain": [
       "      Naam  Leeftijd\n",
       "0    Alice        25\n",
       "1      Bob        30\n",
       "2  Charlie        35"
      ]
     },
     "execution_count": 30,
     "metadata": {},
     "output_type": "execute_result"
    }
   ],
   "source": [
    "df.reset_index()"
   ]
  },
  {
   "cell_type": "code",
   "execution_count": null,
   "metadata": {},
   "outputs": [],
   "source": []
  }
 ],
 "metadata": {
  "kernelspec": {
   "display_name": "Python 3",
   "language": "python",
   "name": "python3"
  },
  "language_info": {
   "codemirror_mode": {
    "name": "ipython",
    "version": 3
   },
   "file_extension": ".py",
   "mimetype": "text/x-python",
   "name": "python",
   "nbconvert_exporter": "python",
   "pygments_lexer": "ipython3",
   "version": "3.12.5"
  }
 },
 "nbformat": 4,
 "nbformat_minor": 2
}
