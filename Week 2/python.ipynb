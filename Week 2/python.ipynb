{
 "cells": [
  {
   "cell_type": "markdown",
   "id": "f51c7a21",
   "metadata": {},
   "source": [
    "## Oefeningen Python - Numpy\n",
    "\n",
    "Hieronder vind je je eerste oefening voor het vak data science.\n",
    "Voor je aan de oefening begint geef ik je nog de volgende handige shortcuts mee om sneller te kunnen werken met een jupyter notebook\n",
    "\n",
    "* Uitvoeren van een cel:\n",
    "    * Jupyter Notebook: Shift+Enter\n",
    "    * Meeste editors: Ctrl+Enter (of Cmd+Enter op Mac)\n",
    "* Nieuwe cel toevoegen:\n",
    "    * Boven: A\n",
    "    * Onder: B\n",
    "* Cel verwijderen: D, D (twee keer op D drukken)\n",
    "* Cel type veranderen: Y (code), M (markdown)\n",
    "\n",
    "Daarnaast heeft Jupyter Notebook speciale commando's die beginnen met een procentteken (%) of met uitroepingsteken. Het uitroepingsteken kan gebruikt worden om rechtstreeks commando's op de command line interface uit te voeren. Dit gebruiken we bijvoorbeeld om packages te installeren. Een voorbeeld hiervan staat hieronder om het numpy-package te installeren dat je gaat gebruiken in deze oefening. \n",
    "De commando's met een procentteken kunnen bijvoorbeeld gebruikt worden om de looptijd van een commando te bepalen of de inhoud van een cel te bewaren in een file.\n",
    "\n",
    "De oefening in deze notebook maakt gebruik van de numpy package en verondersteld dat je reeds de kaggle-tutorial over python gevolgd hebt.\n",
    "Indien het numpy-package nog niet geinstalleerd zou zijn (dan krijg je een error met boodschap \"module not found\") kan je het installeren met volgende commando:"
   ]
  },
  {
   "cell_type": "code",
   "execution_count": null,
   "id": "19fd52b9",
   "metadata": {},
   "outputs": [],
   "source": [
    "!pip install numpy"
   ]
  },
  {
   "cell_type": "markdown",
   "id": "3c98f919",
   "metadata": {},
   "source": [
    "Na installatie van de package kan je aan onderstaande oefeningen beginnen.\n",
    "Aangezien deze oefeningen bedoeld zijn om de basissyntax van python in te oefenen raad ik het gebruik van AI-tools af. Echter kan je het wel steeds gebruiken als inspiratie, debugging, controleren of alternatieve coderingstechnieken te bekijken."
   ]
  },
  {
   "cell_type": "markdown",
   "id": "93d31c93",
   "metadata": {},
   "source": [
    "\n",
    "## Gok het correcte getal\n",
    "\n",
    "Maak een klasse voor een spel waarbij je een willekeurig getal moet gokken.\n",
    "Deze klasse moet de volgende zaken doen:\n",
    "* Een willekeurig getal tussen 0 en 20 genereren\n",
    "* Een \"start\" functie hebben om het spel te starten\n",
    "* In deze functie moet er herhaaldelijk om input gevraagd worden aan de gebruiker.\n",
    "* De input moet vergeleken worden met het random getal. Als je input:\n",
    "    * kleiner is dan het willekeurig getal, print je \"Te laag\"\n",
    "    * groter is dan het willekeurig getal, print je \"Te hoog\"\n",
    "    * gelijk is aan het getal, eindig je en print je dat je bent gewonnen\n",
    "    * Gelijk is aan \"Exit\", eindig je en print je dat je verloren bent.\n",
    "* Om te eindigen print je nog de volgende statistieken:\n",
    "    * Hoeveel keer dat je gegokt hebt\n",
    "    * Hoeveel je er gemiddeld naast zat\n",
    "    \n",
    "Vergeet zeker niet om de code te voorzien om het spel te starten"
   ]
  },
  {
   "cell_type": "code",
   "execution_count": 3,
   "id": "bc69c6e8",
   "metadata": {},
   "outputs": [
    {
     "data": {
      "text/plain": [
       "7"
      ]
     },
     "execution_count": 3,
     "metadata": {},
     "output_type": "execute_result"
    }
   ],
   "source": [
    "np.random.randint(0,20)"
   ]
  },
  {
   "cell_type": "code",
   "execution_count": 4,
   "id": "dfdc6bd8",
   "metadata": {},
   "outputs": [
    {
     "name": "stdout",
     "output_type": "stream",
     "text": [
      " Te hoog\n",
      " Te laag\n",
      " Te laag\n",
      " Te laag\n",
      "Gewonnen na 5 gokken en gemiddelde fout van 1.6\n"
     ]
    }
   ],
   "source": [
    "import numpy as np\n",
    "class Game:\n",
    "\n",
    "    def __init__(self):\n",
    "\n",
    "        self.target = np.random.randint(0,20)\n",
    "\n",
    "\n",
    "    def start(self):\n",
    "\n",
    "        done = False\n",
    "        guesses = 0\n",
    "        error = 0\n",
    "    \n",
    "        while not done:\n",
    "            guess = input(\"Geef een gok in\")\n",
    "\n",
    "            if guess == \"Exit\":\n",
    "                print(\"Verloren\")\n",
    "                break\n",
    "\n",
    "            guess = int(guess)\n",
    "            guesses += 1\n",
    "            error += abs(guess-self.target)\n",
    "\n",
    "            if guess < self.target:\n",
    "                print(\" Te laag\")\n",
    "            elif guess > self.target:\n",
    "                print(\" Te hoog\")\n",
    "            else:\n",
    "                print(f\"Gewonnen na {guesses} gokken en gemiddelde fout van {error/guesses}\")\n",
    "                break\n",
    "\n",
    "game = Game()\n",
    "game.start()\n"
   ]
  },
  {
   "cell_type": "markdown",
   "id": "4ede9315",
   "metadata": {},
   "source": [
    "## Matrix bewerkingen\n",
    "\n",
    "Maak functie voor het aanmaken een matrix waar elk waarde het product is van zijn rij en kolom index (bvb op rij 4 en kolom 5 moet er 20 staan). Deze functie moet als argument het aantal rij en aantal kolommen hebben.\n",
    "\n",
    "Maak met behulp van deze functie een matrix \"a\" van 5 rijen en 7 kolommen aan."
   ]
  },
  {
   "cell_type": "code",
   "execution_count": 15,
   "id": "9d63a17f",
   "metadata": {},
   "outputs": [
    {
     "data": {
      "text/plain": [
       "array([[ 0.,  0.,  0.,  0.,  0.,  0.,  0.],\n",
       "       [ 0.,  1.,  2.,  3.,  4.,  5.,  6.],\n",
       "       [ 0.,  2.,  4.,  6.,  8., 10., 12.],\n",
       "       [ 0.,  3.,  6.,  9., 12., 15., 18.],\n",
       "       [ 0.,  4.,  8., 12., 16., 20., 24.]])"
      ]
     },
     "execution_count": 15,
     "metadata": {},
     "output_type": "execute_result"
    }
   ],
   "source": [
    "def init_matrix(rows, columns):\n",
    "    tmp = np.zeros((rows, columns))\n",
    "\n",
    "    for i in range(rows):\n",
    "        for j in range(columns):\n",
    "            tmp[i,j] = i*j\n",
    "    \n",
    "    return tmp\n",
    "\n",
    "a = init_matrix(5, 7)\n",
    "a"
   ]
  },
  {
   "cell_type": "markdown",
   "id": "49095555",
   "metadata": {},
   "source": [
    "Maak een functie die met behulp van slicing de volgorde van de elementen in matrix \"a\" omdraait."
   ]
  },
  {
   "cell_type": "code",
   "execution_count": 10,
   "id": "7914e68b",
   "metadata": {},
   "outputs": [
    {
     "data": {
      "text/plain": [
       "array([[0.44410007, 0.71008976, 0.47324725, 0.34848112, 0.19313005,\n",
       "        0.44855723, 0.1920278 ],\n",
       "       [0.50504778, 0.4275772 , 0.5469523 , 0.74327418, 0.81388247,\n",
       "        0.92748965, 0.53982758],\n",
       "       [0.92314271, 0.52398845, 0.76742121, 0.09808677, 0.42791815,\n",
       "        0.32987031, 0.79646355],\n",
       "       [0.72426971, 0.69610095, 0.49041134, 0.82754131, 0.79516238,\n",
       "        0.55327057, 0.67337585],\n",
       "       [0.83738639, 0.10901377, 0.73434897, 0.66158959, 0.15150634,\n",
       "        0.72933959, 0.03670303]])"
      ]
     },
     "execution_count": 10,
     "metadata": {},
     "output_type": "execute_result"
    }
   ],
   "source": [
    "a[-1::-1, -1::-1]"
   ]
  },
  {
   "cell_type": "markdown",
   "id": "1f49bd78",
   "metadata": {},
   "source": [
    "Bereken de mean, median en standard deviation van elke kolom in matrix  \"a\"."
   ]
  },
  {
   "cell_type": "code",
   "execution_count": 11,
   "id": "0ba11e4a",
   "metadata": {},
   "outputs": [
    {
     "data": {
      "text/plain": [
       "array([0.46569824, 0.68001887, 0.55241302, 0.64343588, 0.40137618])"
      ]
     },
     "execution_count": 11,
     "metadata": {},
     "output_type": "execute_result"
    }
   ],
   "source": [
    "np.mean(a, axis=1)"
   ]
  },
  {
   "cell_type": "markdown",
   "id": "d5324de0",
   "metadata": {},
   "source": [
    "Bereken hoeveel elementen in matrix \"a\" groter zijn dan 20"
   ]
  },
  {
   "cell_type": "code",
   "execution_count": 12,
   "id": "fbf7f3cd",
   "metadata": {},
   "outputs": [
    {
     "data": {
      "text/plain": [
       "np.int64(0)"
      ]
     },
     "execution_count": 12,
     "metadata": {},
     "output_type": "execute_result"
    }
   ],
   "source": [
    "np.sum(a>20)"
   ]
  },
  {
   "cell_type": "code",
   "execution_count": 1,
   "id": "379d5acc",
   "metadata": {},
   "outputs": [
    {
     "name": "stdout",
     "output_type": "stream",
     "text": [
      "Package                   Version\n",
      "------------------------- -----------------\n",
      "absl-py                   2.1.0\n",
      "annotated-types           0.7.0\n",
      "anyio                     4.4.0\n",
      "argon2-cffi               23.1.0\n",
      "argon2-cffi-bindings      21.2.0\n",
      "arrow                     1.3.0\n",
      "asttokens                 2.4.1\n",
      "astunparse                1.6.3\n",
      "async-lru                 2.0.4\n",
      "attrs                     24.2.0\n",
      "babel                     2.16.0\n",
      "beautifulsoup4            4.12.3\n",
      "bleach                    6.1.0\n",
      "blinker                   1.8.2\n",
      "certifi                   2024.7.4\n",
      "cffi                      1.17.0\n",
      "charset-normalizer        3.3.2\n",
      "click                     8.1.7\n",
      "colorama                  0.4.6\n",
      "comm                      0.2.2\n",
      "contourpy                 1.2.1\n",
      "cycler                    0.12.1\n",
      "dacite                    1.8.1\n",
      "debugpy                   1.8.1\n",
      "decorator                 5.1.1\n",
      "defusedxml                0.7.1\n",
      "dnspython                 2.6.1\n",
      "et-xmlfile                1.1.0\n",
      "executing                 2.0.1\n",
      "fastjsonschema            2.20.0\n",
      "filelock                  3.13.1\n",
      "Flask                     3.0.3\n",
      "Flask-Cors                4.0.1\n",
      "flatbuffers               24.3.25\n",
      "fonttools                 4.53.1\n",
      "fqdn                      1.5.1\n",
      "fsspec                    2024.2.0\n",
      "gast                      0.6.0\n",
      "google-pasta              0.2.0\n",
      "grpcio                    1.66.0\n",
      "h11                       0.14.0\n",
      "h5py                      3.11.0\n",
      "htmlmin                   0.1.12\n",
      "httpcore                  1.0.5\n",
      "httpx                     0.27.0\n",
      "idna                      3.7\n",
      "ImageHash                 4.3.1\n",
      "imageio                   2.35.1\n",
      "intel-openmp              2021.4.0\n",
      "ipykernel                 6.29.4\n",
      "ipython                   8.24.0\n",
      "ipywidgets                8.1.3\n",
      "isoduration               20.11.0\n",
      "itsdangerous              2.2.0\n",
      "jedi                      0.19.1\n",
      "Jinja2                    3.1.3\n",
      "joblib                    1.4.2\n",
      "json5                     0.9.25\n",
      "jsonpointer               3.0.0\n",
      "jsonschema                4.23.0\n",
      "jsonschema-specifications 2023.12.1\n",
      "jupyter                   1.0.0\n",
      "jupyter_client            8.6.2\n",
      "jupyter-console           6.6.3\n",
      "jupyter_core              5.7.2\n",
      "jupyter-events            0.10.0\n",
      "jupyter-lsp               2.2.5\n",
      "jupyter_server            2.14.2\n",
      "jupyter_server_terminals  0.5.3\n",
      "jupyterlab                4.2.4\n",
      "jupyterlab_pygments       0.3.0\n",
      "jupyterlab_server         2.27.3\n",
      "jupyterlab_widgets        3.0.11\n",
      "kaggle                    1.6.17\n",
      "keras                     3.5.0\n",
      "kiwisolver                1.4.5\n",
      "libclang                  18.1.1\n",
      "llvmlite                  0.43.0\n",
      "Markdown                  3.7\n",
      "markdown-it-py            3.0.0\n",
      "MarkupSafe                2.1.5\n",
      "matplotlib                3.9.2\n",
      "matplotlib-inline         0.1.7\n",
      "mdurl                     0.1.2\n",
      "mistune                   3.0.2\n",
      "mkl                       2021.4.0\n",
      "ml-dtypes                 0.4.0\n",
      "mpmath                    1.3.0\n",
      "multimethod               1.12\n",
      "namex                     0.0.8\n",
      "nbclient                  0.10.0\n",
      "nbconvert                 7.16.4\n",
      "nbformat                  5.10.4\n",
      "nest-asyncio              1.6.0\n",
      "networkx                  3.2.1\n",
      "notebook                  7.2.1\n",
      "notebook_shim             0.2.4\n",
      "numba                     0.60.0\n",
      "numpy                     2.1.1\n",
      "onnx                      1.16.2\n",
      "onnxscript                0.1.0.dev20240830\n",
      "opendatasets              0.1.22\n",
      "openpyxl                  3.1.5\n",
      "opt-einsum                3.3.0\n",
      "optree                    0.12.1\n",
      "overrides                 7.7.0\n",
      "packaging                 24.0\n",
      "pandas                    2.2.2\n",
      "pandocfilters             1.5.1\n",
      "parso                     0.8.4\n",
      "patsy                     0.5.6\n",
      "phik                      0.12.4\n",
      "pillow                    10.2.0\n",
      "pip                       24.2\n",
      "platformdirs              4.2.2\n",
      "prometheus_client         0.20.0\n",
      "prompt-toolkit            3.0.43\n",
      "protobuf                  4.25.4\n",
      "psutil                    5.9.8\n",
      "pure-eval                 0.2.2\n",
      "pycparser                 2.22\n",
      "pydantic                  2.8.2\n",
      "pydantic_core             2.20.1\n",
      "Pygments                  2.18.0\n",
      "pymongo                   4.7.2\n",
      "pyparsing                 3.1.2\n",
      "python-dateutil           2.9.0.post0\n",
      "python-json-logger        2.0.7\n",
      "python-slugify            8.0.4\n",
      "pytz                      2024.1\n",
      "PyWavelets                1.7.0\n",
      "pywin32                   306\n",
      "pywinpty                  2.0.13\n",
      "PyYAML                    6.0.2\n",
      "pyzmq                     26.0.3\n",
      "qtconsole                 5.5.2\n",
      "QtPy                      2.4.1\n",
      "referencing               0.35.1\n",
      "requests                  2.32.3\n",
      "rfc3339-validator         0.1.4\n",
      "rfc3986-validator         0.1.1\n",
      "rich                      13.8.0\n",
      "rpds-py                   0.20.0\n",
      "scipy                     1.13.1\n",
      "seaborn                   0.13.2\n",
      "Send2Trash                1.8.3\n",
      "setuptools                73.0.1\n",
      "six                       1.16.0\n",
      "sniffio                   1.3.1\n",
      "soupsieve                 2.6\n",
      "stack-data                0.6.3\n",
      "statsmodels               0.14.2\n",
      "sympy                     1.12\n",
      "tbb                       2021.11.0\n",
      "tensorboard               2.17.1\n",
      "tensorboard-data-server   0.7.2\n",
      "tensorflow                2.17.0\n",
      "tensorflow-intel          2.17.0\n",
      "termcolor                 2.4.0\n",
      "terminado                 0.18.1\n",
      "text-unidecode            1.3\n",
      "tinycss2                  1.3.0\n",
      "torch                     2.3.0+cu118\n",
      "torchaudio                2.3.0+cu118\n",
      "torchvision               0.18.0+cu118\n",
      "tornado                   6.4\n",
      "tqdm                      4.66.5\n",
      "traitlets                 5.14.3\n",
      "typeguard                 4.3.0\n",
      "types-python-dateutil     2.9.0.20240316\n",
      "typing_extensions         4.12.2\n",
      "tzdata                    2024.1\n",
      "uri-template              1.3.0\n",
      "urllib3                   2.2.2\n",
      "visions                   0.7.6\n",
      "wcwidth                   0.2.13\n",
      "webcolors                 24.8.0\n",
      "webencodings              0.5.1\n",
      "websocket-client          1.8.0\n",
      "Werkzeug                  3.0.4\n",
      "wheel                     0.44.0\n",
      "widgetsnbextension        4.0.11\n",
      "wordcloud                 1.9.3\n",
      "wrapt                     1.16.0\n",
      "ydata-profiling           4.9.0\n",
      "Note: you may need to restart the kernel to use updated packages.\n"
     ]
    }
   ],
   "source": [
    "%pip list"
   ]
  },
  {
   "cell_type": "code",
   "execution_count": null,
   "id": "2945bfe3",
   "metadata": {},
   "outputs": [],
   "source": []
  }
 ],
 "metadata": {
  "kernelspec": {
   "display_name": "Python 3",
   "language": "python",
   "name": "python3"
  },
  "language_info": {
   "codemirror_mode": {
    "name": "ipython",
    "version": 3
   },
   "file_extension": ".py",
   "mimetype": "text/x-python",
   "name": "python",
   "nbconvert_exporter": "python",
   "pygments_lexer": "ipython3",
   "version": "3.12.5"
  }
 },
 "nbformat": 4,
 "nbformat_minor": 5
}
