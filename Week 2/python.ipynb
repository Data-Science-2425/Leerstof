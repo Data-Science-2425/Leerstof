{
 "cells": [
  {
   "cell_type": "markdown",
   "id": "f51c7a21",
   "metadata": {},
   "source": [
    "## Oefeningen Python - Numpy\n",
    "\n",
    "Hieronder vind je je eerste oefening voor het vak data science.\n",
    "Voor je aan de oefening begint geef ik je nog de volgende handige shortcuts mee om sneller te kunnen werken met een jupyter notebook\n",
    "\n",
    "* Uitvoeren van een cel:\n",
    "    * Jupyter Notebook: Shift+Enter\n",
    "    * Meeste editors: Ctrl+Enter (of Cmd+Enter op Mac)\n",
    "* Nieuwe cel toevoegen:\n",
    "    * Boven: A\n",
    "    * Onder: B\n",
    "* Cel verwijderen: D, D (twee keer op D drukken)\n",
    "* Cel type veranderen: Y (code), M (markdown)\n",
    "\n",
    "Daarnaast heeft Jupyter Notebook speciale commando's die beginnen met een procentteken (%) of met uitroepingsteken. Het uitroepingsteken kan gebruikt worden om rechtstreeks commando's op de command line interface uit te voeren. Dit gebruiken we bijvoorbeeld om packages te installeren. Een voorbeeld hiervan staat hieronder om het numpy-package te installeren dat je gaat gebruiken in deze oefening. \n",
    "De commando's met een procentteken kunnen bijvoorbeeld gebruikt worden om de looptijd van een commando te bepalen of de inhoud van een cel te bewaren in een file.\n",
    "\n",
    "De oefening in deze notebook maakt gebruik van de numpy package en verondersteld dat je reeds de kaggle-tutorial over python gevolgd hebt.\n",
    "Indien het numpy-package nog niet geinstalleerd zou zijn (dan krijg je een error met boodschap \"module not found\") kan je het installeren met volgende commando:"
   ]
  },
  {
   "cell_type": "code",
   "execution_count": null,
   "id": "19fd52b9",
   "metadata": {},
   "outputs": [],
   "source": [
    "!pip install numpy"
   ]
  },
  {
   "cell_type": "markdown",
   "id": "3c98f919",
   "metadata": {},
   "source": [
    "Na installatie van de package kan je aan onderstaande oefeningen beginnen.\n",
    "Aangezien deze oefeningen bedoeld zijn om de basissyntax van python in te oefenen raad ik het gebruik van AI-tools af. Echter kan je het wel steeds gebruiken als inspiratie, debugging, controleren of alternatieve coderingstechnieken te bekijken."
   ]
  },
  {
   "cell_type": "markdown",
   "id": "93d31c93",
   "metadata": {},
   "source": [
    "\n",
    "## Gok het correcte getal\n",
    "\n",
    "Maak een klasse voor een spel waarbij je een willekeurig getal moet gokken.\n",
    "Deze klasse moet de volgende zaken doen:\n",
    "* Een willekeurig getal tussen 0 en 20 genereren\n",
    "* Een \"start\" functie hebben om het spel te starten\n",
    "* In deze functie moet er herhaaldelijk om input gevraagd worden aan de gebruiker.\n",
    "* De input moet vergeleken worden met het random getal. Als je input:\n",
    "    * kleiner is dan het willekeurig getal, print je \"Te laag\"\n",
    "    * groter is dan het willekeurig getal, print je \"Te hoog\"\n",
    "    * gelijk is aan het getal, eindig je en print je dat je bent gewonnen\n",
    "    * Gelijk is aan \"Exit\", eindig je en print je dat je verloren bent.\n",
    "* Om te eindigen print je nog de volgende statistieken:\n",
    "    * Hoeveel keer dat je gegokt hebt\n",
    "    * Hoeveel je er gemiddeld naast zat\n",
    "    \n",
    "Vergeet zeker niet om de code te voorzien om het spel te starten"
   ]
  },
  {
   "cell_type": "code",
   "execution_count": 3,
   "id": "bc69c6e8",
   "metadata": {},
   "outputs": [
    {
     "data": {
      "text/plain": [
       "7"
      ]
     },
     "execution_count": 3,
     "metadata": {},
     "output_type": "execute_result"
    }
   ],
   "source": [
    "np.random.randint(0,20)"
   ]
  },
  {
   "cell_type": "code",
   "execution_count": 4,
   "id": "dfdc6bd8",
   "metadata": {},
   "outputs": [
    {
     "name": "stdout",
     "output_type": "stream",
     "text": [
      " Te hoog\n",
      " Te laag\n",
      " Te laag\n",
      " Te laag\n",
      "Gewonnen na 5 gokken en gemiddelde fout van 1.6\n"
     ]
    }
   ],
   "source": [
    "import numpy as np\n",
    "class Game:\n",
    "\n",
    "    def __init__(self):\n",
    "\n",
    "        self.target = np.random.randint(0,20)\n",
    "\n",
    "\n",
    "    def start(self):\n",
    "\n",
    "        done = False\n",
    "        guesses = 0\n",
    "        error = 0\n",
    "    \n",
    "        while not done:\n",
    "            guess = input(\"Geef een gok in\")\n",
    "\n",
    "            if guess == \"Exit\":\n",
    "                print(\"Verloren\")\n",
    "                break\n",
    "\n",
    "            guess = int(guess)\n",
    "            guesses += 1\n",
    "            error += abs(guess-self.target)\n",
    "\n",
    "            if guess < self.target:\n",
    "                print(\" Te laag\")\n",
    "            elif guess > self.target:\n",
    "                print(\" Te hoog\")\n",
    "            else:\n",
    "                print(f\"Gewonnen na {guesses} gokken en gemiddelde fout van {error/guesses}\")\n",
    "                break\n",
    "\n",
    "game = Game()\n",
    "game.start()\n"
   ]
  },
  {
   "cell_type": "markdown",
   "id": "4ede9315",
   "metadata": {},
   "source": [
    "## Matrix bewerkingen\n",
    "\n",
    "Maak functie voor het aanmaken een matrix waar elk waarde het product is van zijn rij en kolom index (bvb op rij 4 en kolom 5 moet er 20 staan). Deze functie moet als argument het aantal rij en aantal kolommen hebben.\n",
    "\n",
    "Maak met behulp van deze functie een matrix \"a\" van 5 rijen en 7 kolommen aan."
   ]
  },
  {
   "cell_type": "code",
   "execution_count": 15,
   "id": "9d63a17f",
   "metadata": {},
   "outputs": [
    {
     "data": {
      "text/plain": [
       "array([[ 0.,  0.,  0.,  0.,  0.,  0.,  0.],\n",
       "       [ 0.,  1.,  2.,  3.,  4.,  5.,  6.],\n",
       "       [ 0.,  2.,  4.,  6.,  8., 10., 12.],\n",
       "       [ 0.,  3.,  6.,  9., 12., 15., 18.],\n",
       "       [ 0.,  4.,  8., 12., 16., 20., 24.]])"
      ]
     },
     "execution_count": 15,
     "metadata": {},
     "output_type": "execute_result"
    }
   ],
   "source": [
    "def init_matrix(rows, columns):\n",
    "    tmp = np.zeros((rows, columns))\n",
    "\n",
    "    for i in range(rows):\n",
    "        for j in range(columns):\n",
    "            tmp[i,j] = i*j\n",
    "    \n",
    "    return tmp\n",
    "\n",
    "a = init_matrix(5, 7)\n",
    "a"
   ]
  },
  {
   "cell_type": "markdown",
   "id": "49095555",
   "metadata": {},
   "source": [
    "Maak een functie die met behulp van slicing de volgorde van de elementen in matrix \"a\" omdraait."
   ]
  },
  {
   "cell_type": "code",
   "execution_count": 10,
   "id": "7914e68b",
   "metadata": {},
   "outputs": [
    {
     "data": {
      "text/plain": [
       "array([[0.44410007, 0.71008976, 0.47324725, 0.34848112, 0.19313005,\n",
       "        0.44855723, 0.1920278 ],\n",
       "       [0.50504778, 0.4275772 , 0.5469523 , 0.74327418, 0.81388247,\n",
       "        0.92748965, 0.53982758],\n",
       "       [0.92314271, 0.52398845, 0.76742121, 0.09808677, 0.42791815,\n",
       "        0.32987031, 0.79646355],\n",
       "       [0.72426971, 0.69610095, 0.49041134, 0.82754131, 0.79516238,\n",
       "        0.55327057, 0.67337585],\n",
       "       [0.83738639, 0.10901377, 0.73434897, 0.66158959, 0.15150634,\n",
       "        0.72933959, 0.03670303]])"
      ]
     },
     "execution_count": 10,
     "metadata": {},
     "output_type": "execute_result"
    }
   ],
   "source": [
    "a[-1::-1, -1::-1]"
   ]
  },
  {
   "cell_type": "markdown",
   "id": "1f49bd78",
   "metadata": {},
   "source": [
    "Bereken de mean, median en standard deviation van elke kolom in matrix  \"a\"."
   ]
  },
  {
   "cell_type": "code",
   "execution_count": 11,
   "id": "0ba11e4a",
   "metadata": {},
   "outputs": [
    {
     "data": {
      "text/plain": [
       "array([0.46569824, 0.68001887, 0.55241302, 0.64343588, 0.40137618])"
      ]
     },
     "execution_count": 11,
     "metadata": {},
     "output_type": "execute_result"
    }
   ],
   "source": [
    "np.mean(a, axis=1)"
   ]
  },
  {
   "cell_type": "markdown",
   "id": "d5324de0",
   "metadata": {},
   "source": [
    "Bereken hoeveel elementen in matrix \"a\" groter zijn dan 20"
   ]
  },
  {
   "cell_type": "code",
   "execution_count": 12,
   "id": "fbf7f3cd",
   "metadata": {},
   "outputs": [
    {
     "data": {
      "text/plain": [
       "np.int64(0)"
      ]
     },
     "execution_count": 12,
     "metadata": {},
     "output_type": "execute_result"
    }
   ],
   "source": [
    "np.sum(a>20)"
   ]
  },
  {
   "cell_type": "code",
   "execution_count": null,
   "id": "379d5acc",
   "metadata": {},
   "outputs": [],
   "source": []
  }
 ],
 "metadata": {
  "kernelspec": {
   "display_name": "Python 3",
   "language": "python",
   "name": "python3"
  },
  "language_info": {
   "codemirror_mode": {
    "name": "ipython",
    "version": 3
   },
   "file_extension": ".py",
   "mimetype": "text/x-python",
   "name": "python",
   "nbconvert_exporter": "python",
   "pygments_lexer": "ipython3",
   "version": "3.12.5"
  }
 },
 "nbformat": 4,
 "nbformat_minor": 5
}
